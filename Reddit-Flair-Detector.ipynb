{
 "cells": [
  {
   "cell_type": "markdown",
   "metadata": {},
   "source": [
    "<h1>3 Flair Detector </h1>\n",
    "<br>\n",
    "The Logistic Regression classification algorithm is easily generalized to multiple classes. "
   ]
  },
  {
   "cell_type": "markdown",
   "metadata": {},
   "source": [
    "<p> Reading data from the CSV file and importing some necessary packages. </p>"
   ]
  },
  {
   "cell_type": "code",
   "execution_count": 12,
   "metadata": {},
   "outputs": [],
   "source": [
    "import pandas as pd\n",
    "import numpy as np\n",
    "import os\n",
    "import re\n",
    "import nltk\n",
    "from nltk.corpus import stopwords\n",
    "from sklearn.model_selection import train_test_split\n",
    "from sklearn.pipeline import Pipeline\n",
    "from sklearn.feature_extraction.text import CountVectorizer\n",
    "from sklearn.feature_extraction.text import TfidfTransformer\n",
    "from sklearn.linear_model import LogisticRegression\n",
    "from sklearn.metrics import accuracy_score, confusion_matrix\n",
    "from sklearn.metrics import classification_report\n",
    "from sklearn.impute import SimpleImputer"
   ]
  },
  {
   "cell_type": "code",
   "execution_count": 13,
   "metadata": {},
   "outputs": [],
   "source": [
    "india_data = pd.read_csv(\"reddit-india-data.csv\")"
   ]
  },
  {
   "cell_type": "code",
   "execution_count": 14,
   "metadata": {},
   "outputs": [],
   "source": [
    "flairs = india_data.flair.unique()"
   ]
  },
  {
   "cell_type": "markdown",
   "metadata": {},
   "source": [
    "<b>3.1 Text Pre-Processing:</b> For our data set from reddit, the text cleaning step includes:\n",
    "    a) remove stop words, \n",
    "    b) change text to lower case, \n",
    "    c) remove punctuation, \n",
    "    d) remove bad characters\n",
    " "
   ]
  },
  {
   "cell_type": "markdown",
   "metadata": {},
   "source": [
    "<p>Using the regular expression module, we describe the symbols that need replacement with space and need to be removed. This is done with the sub() function in the re module. In stop_words, we store the stopwords list taken from the natural language toolkit (nltk). </p>"
   ]
  },
  {
   "cell_type": "code",
   "execution_count": 15,
   "metadata": {},
   "outputs": [],
   "source": [
    "replace_by_space = re.compile('[/(){}\\[\\]\\|@,;]')\n",
    "bad_symbols = re.compile('[^0-9a-z #+_]')\n",
    "stop_words = stopwords.words('english')\n",
    "\n",
    "def clean_data(text):\n",
    "    #converting to lowercase\n",
    "    text = text.lower()\n",
    "    #re.sub(new_value, text_to_processed) \n",
    "    text = replace_by_space.sub(' ', text)\n",
    "    text = bad_symbols.sub('', text)\n",
    "    #removing the stopwords\n",
    "    text = ' '.join(word for word in text.split() if word not in stop_words) \n",
    "    return text"
   ]
  },
  {
   "cell_type": "markdown",
   "metadata": {},
   "source": [
    "<p><b>3.2</b> The url has certain extra cleaning steps involved. The reason for these steps was discovered during the data analysis.  </p>"
   ]
  },
  {
   "cell_type": "code",
   "execution_count": 16,
   "metadata": {},
   "outputs": [],
   "source": [
    "def clean_url(u):\n",
    "    if u.startswith(\"http://\"):\n",
    "        u = u[7:]\n",
    "    if u.startswith(\"https://\"):\n",
    "        u = u[8:]\n",
    "    if u.startswith(\"www.\"):\n",
    "        u = u[4:]\n",
    "    if u.endswith(\"/\"):\n",
    "        u = u[:-1]\n",
    "    return u"
   ]
  },
  {
   "cell_type": "code",
   "execution_count": 17,
   "metadata": {},
   "outputs": [],
   "source": [
    "def reddit_url(u):\n",
    "    u = u.replace('redditcom', '')\n",
    "    u = u.replace('r', '')\n",
    "    u = u.replace('india', '')\n",
    "    u = u.replace('comments','')\n",
    "    for word in u:\n",
    "        u = ' '.join(u.split('_'))\n",
    "    return u"
   ]
  },
  {
   "cell_type": "markdown",
   "metadata": {},
   "source": [
    "<p><b>3.3</b> Cleaning all the values that will be taken into consideration for the classifier. </p>"
   ]
  },
  {
   "cell_type": "code",
   "execution_count": 18,
   "metadata": {},
   "outputs": [],
   "source": [
    "india_data['title'] = india_data['title'].apply(clean_data)\n",
    "india_data['comments'] = india_data['comments'].astype('str').apply(clean_data)\n",
    "india_data['body'] = india_data['body'].astype('str').apply(clean_data)"
   ]
  },
  {
   "cell_type": "code",
   "execution_count": 19,
   "metadata": {},
   "outputs": [],
   "source": [
    "india_data['url'] = india_data['url'].apply(clean_url)\n",
    "india_data['url'] = india_data['url'].apply(clean_data)"
   ]
  },
  {
   "cell_type": "code",
   "execution_count": 20,
   "metadata": {},
   "outputs": [],
   "source": [
    "india_data['url'] = india_data['url'].apply(reddit_url)\n",
    "india_data['url'] = india_data['url'].apply(clean_data)"
   ]
  },
  {
   "cell_type": "markdown",
   "metadata": {},
   "source": [
    "<h3> Logistic Regression Model (Title) </h3>"
   ]
  },
  {
   "cell_type": "code",
   "execution_count": 23,
   "metadata": {},
   "outputs": [
    {
     "name": "stdout",
     "output_type": "stream",
     "text": [
      "accuracy 0.7\n",
      "                  precision    recall  f1-score   support\n",
      "\n",
      "   Non-Political       0.78      0.74      0.76        19\n",
      "       Scheduled       0.39      0.64      0.49        14\n",
      "     Photography       0.92      0.92      0.92        24\n",
      "        Politics       0.83      0.75      0.79        20\n",
      "Business/Finance       0.96      1.00      0.98        24\n",
      "  Policy/Economy       0.87      0.68      0.76        19\n",
      "          Sports       0.53      0.42      0.47        24\n",
      "            Food       0.53      0.59      0.56        17\n",
      "        AskIndia       0.55      0.55      0.55        20\n",
      "     Coronavirus       0.63      0.63      0.63        19\n",
      "\n",
      "        accuracy                           0.70       200\n",
      "       macro avg       0.70      0.69      0.69       200\n",
      "    weighted avg       0.72      0.70      0.70       200\n",
      "\n"
     ]
    },
    {
     "name": "stderr",
     "output_type": "stream",
     "text": [
      "C:\\Users\\alkaa\\anaconda3\\lib\\site-packages\\sklearn\\linear_model\\_logistic.py:940: ConvergenceWarning: lbfgs failed to converge (status=1):\n",
      "STOP: TOTAL NO. of ITERATIONS REACHED LIMIT.\n",
      "\n",
      "Increase the number of iterations (max_iter) or scale the data as shown in:\n",
      "    https://scikit-learn.org/stable/modules/preprocessing.html\n",
      "Please also refer to the documentation for alternative solver options:\n",
      "    https://scikit-learn.org/stable/modules/linear_model.html#logistic-regression\n",
      "  extra_warning_msg=_LOGISTIC_SOLVER_CONVERGENCE_MSG)\n"
     ]
    }
   ],
   "source": [
    "X = india_data.title\n",
    "y = india_data.flair\n",
    "X_train, X_test, y_train, y_test = train_test_split(X, y, test_size=0.1) \n",
    "\n",
    "logreg = Pipeline([('vect', CountVectorizer()),\n",
    "                   ('tfidf', TfidfTransformer()),\n",
    "                   ('clf', LogisticRegression(n_jobs=1, C=1e5))])\n",
    "logreg.fit(X_train, y_train)\n",
    "\n",
    "y_pred = logreg.predict(X_test)\n",
    "print('accuracy %s' % accuracy_score(y_pred, y_test))\n",
    "print(classification_report(y_test, y_pred,target_names=flairs))"
   ]
  },
  {
   "cell_type": "markdown",
   "metadata": {},
   "source": [
    "<h3>Logistic Regression Model (Title + Comments) </h3>"
   ]
  },
  {
   "cell_type": "code",
   "execution_count": 24,
   "metadata": {},
   "outputs": [],
   "source": [
    "india_data['title_comments'] = india_data['title'] + ' ' + india_data['comments']"
   ]
  },
  {
   "cell_type": "code",
   "execution_count": 25,
   "metadata": {},
   "outputs": [
    {
     "name": "stdout",
     "output_type": "stream",
     "text": [
      "accuracy 0.71\n",
      "                  precision    recall  f1-score   support\n",
      "\n",
      "   Non-Political       0.42      0.53      0.47        19\n",
      "       Scheduled       0.79      0.50      0.61        22\n",
      "     Photography       0.82      0.86      0.84        21\n",
      "        Politics       0.78      0.82      0.80        17\n",
      "Business/Finance       0.67      0.71      0.69        17\n",
      "  Policy/Economy       0.91      0.95      0.93        21\n",
      "          Sports       0.76      0.64      0.70        25\n",
      "            Food       0.52      0.76      0.62        17\n",
      "        AskIndia       0.72      0.57      0.63        23\n",
      "     Coronavirus       0.83      0.83      0.83        18\n",
      "\n",
      "        accuracy                           0.71       200\n",
      "       macro avg       0.72      0.72      0.71       200\n",
      "    weighted avg       0.73      0.71      0.71       200\n",
      "\n"
     ]
    },
    {
     "name": "stderr",
     "output_type": "stream",
     "text": [
      "C:\\Users\\alkaa\\anaconda3\\lib\\site-packages\\sklearn\\linear_model\\_logistic.py:940: ConvergenceWarning: lbfgs failed to converge (status=1):\n",
      "STOP: TOTAL NO. of ITERATIONS REACHED LIMIT.\n",
      "\n",
      "Increase the number of iterations (max_iter) or scale the data as shown in:\n",
      "    https://scikit-learn.org/stable/modules/preprocessing.html\n",
      "Please also refer to the documentation for alternative solver options:\n",
      "    https://scikit-learn.org/stable/modules/linear_model.html#logistic-regression\n",
      "  extra_warning_msg=_LOGISTIC_SOLVER_CONVERGENCE_MSG)\n"
     ]
    }
   ],
   "source": [
    "X = india_data.title_comments\n",
    "y = india_data.flair\n",
    "\n",
    "X_train, X_test, y_train, y_test = train_test_split(X, y, test_size=0.1) \n",
    "\n",
    "logreg = Pipeline([('vect', CountVectorizer()),\n",
    "                   ('tfidf', TfidfTransformer()),\n",
    "                   ('clf', LogisticRegression(n_jobs=1, C=1e5))])\n",
    "logreg.fit(X_train, y_train)\n",
    "\n",
    "y_pred = logreg.predict(X_test)\n",
    "print('accuracy %s' % accuracy_score(y_pred, y_test))\n",
    "print(classification_report(y_test, y_pred,target_names=flairs))"
   ]
  },
  {
   "cell_type": "markdown",
   "metadata": {},
   "source": [
    "<h3>Logistic Regression Model (Title + Comments + Body) </h3>"
   ]
  },
  {
   "cell_type": "code",
   "execution_count": 26,
   "metadata": {},
   "outputs": [],
   "source": [
    "india_data['title_comments_body'] = india_data['title_comments'] + '  ' + india_data['body']"
   ]
  },
  {
   "cell_type": "code",
   "execution_count": 27,
   "metadata": {},
   "outputs": [
    {
     "name": "stderr",
     "output_type": "stream",
     "text": [
      "C:\\Users\\alkaa\\anaconda3\\lib\\site-packages\\sklearn\\linear_model\\_logistic.py:940: ConvergenceWarning: lbfgs failed to converge (status=1):\n",
      "STOP: TOTAL NO. of ITERATIONS REACHED LIMIT.\n",
      "\n",
      "Increase the number of iterations (max_iter) or scale the data as shown in:\n",
      "    https://scikit-learn.org/stable/modules/preprocessing.html\n",
      "Please also refer to the documentation for alternative solver options:\n",
      "    https://scikit-learn.org/stable/modules/linear_model.html#logistic-regression\n",
      "  extra_warning_msg=_LOGISTIC_SOLVER_CONVERGENCE_MSG)\n"
     ]
    },
    {
     "name": "stdout",
     "output_type": "stream",
     "text": [
      "accuracy 0.775\n",
      "                  precision    recall  f1-score   support\n",
      "\n",
      "   Non-Political       0.73      0.67      0.70        24\n",
      "       Scheduled       0.75      0.50      0.60        18\n",
      "     Photography       1.00      0.92      0.96        12\n",
      "        Politics       0.88      0.91      0.89        23\n",
      "Business/Finance       0.57      0.67      0.62        12\n",
      "  Policy/Economy       0.95      0.84      0.89        25\n",
      "          Sports       0.59      0.70      0.64        23\n",
      "            Food       0.74      0.85      0.79        20\n",
      "        AskIndia       0.60      0.80      0.69        15\n",
      "     Coronavirus       0.96      0.86      0.91        28\n",
      "\n",
      "        accuracy                           0.78       200\n",
      "       macro avg       0.78      0.77      0.77       200\n",
      "    weighted avg       0.79      0.78      0.78       200\n",
      "\n"
     ]
    }
   ],
   "source": [
    "X = india_data.title_comments_body\n",
    "y = india_data.flair\n",
    "X_train, X_test, y_train, y_test = train_test_split(X, y, test_size=0.1) \n",
    "\n",
    "logreg = Pipeline([('vect', CountVectorizer()),\n",
    "                   ('tfidf', TfidfTransformer()),\n",
    "                   ('clf', LogisticRegression(n_jobs=1, C=1e5))])\n",
    "logreg.fit(X_train, y_train)\n",
    "\n",
    "y_pred = logreg.predict(X_test)\n",
    "print('accuracy %s' % accuracy_score(y_pred, y_test))\n",
    "print(classification_report(y_test, y_pred,target_names=flairs))"
   ]
  },
  {
   "cell_type": "code",
   "execution_count": 28,
   "metadata": {},
   "outputs": [
    {
     "name": "stdout",
     "output_type": "stream",
     "text": [
      "accuracy 0.805\n",
      "                  precision    recall  f1-score   support\n",
      "\n",
      "   Non-Political       0.71      0.81      0.76        21\n",
      "       Scheduled       0.89      0.89      0.89        18\n",
      "     Photography       0.95      0.95      0.95        22\n",
      "        Politics       0.87      0.87      0.87        23\n",
      "Business/Finance       0.82      0.74      0.78        19\n",
      "  Policy/Economy       0.94      0.79      0.86        19\n",
      "          Sports       0.74      0.58      0.65        24\n",
      "            Food       0.76      0.76      0.76        21\n",
      "        AskIndia       0.73      0.83      0.78        23\n",
      "     Coronavirus       0.64      0.90      0.75        10\n",
      "\n",
      "        accuracy                           0.81       200\n",
      "       macro avg       0.81      0.81      0.80       200\n",
      "    weighted avg       0.81      0.81      0.80       200\n",
      "\n"
     ]
    },
    {
     "name": "stderr",
     "output_type": "stream",
     "text": [
      "C:\\Users\\alkaa\\anaconda3\\lib\\site-packages\\sklearn\\linear_model\\_logistic.py:940: ConvergenceWarning: lbfgs failed to converge (status=1):\n",
      "STOP: TOTAL NO. of ITERATIONS REACHED LIMIT.\n",
      "\n",
      "Increase the number of iterations (max_iter) or scale the data as shown in:\n",
      "    https://scikit-learn.org/stable/modules/preprocessing.html\n",
      "Please also refer to the documentation for alternative solver options:\n",
      "    https://scikit-learn.org/stable/modules/linear_model.html#logistic-regression\n",
      "  extra_warning_msg=_LOGISTIC_SOLVER_CONVERGENCE_MSG)\n"
     ]
    }
   ],
   "source": [
    "india_data_impute_body = india_data.apply(lambda x: x.fillna(x.value_counts().index[0]))\n",
    "india_data_impute_body['title_comments_body'] = india_data_impute_body['title'] + '  ' + india_data_impute_body['comments'] + '  ' + india_data_impute_body['body']\n",
    "X = india_data_impute_body.title_comments_body\n",
    "y = india_data_impute_body.flair\n",
    "\n",
    "X_train, X_test, y_train, y_test = train_test_split(X, y, test_size=0.1) \n",
    "\n",
    "logreg = Pipeline([('vect', CountVectorizer()),\n",
    "                   ('tfidf', TfidfTransformer()),\n",
    "                   ('clf', LogisticRegression(n_jobs=1, C=1e5))])\n",
    "logreg.fit(X_train, y_train)\n",
    "\n",
    "y_pred = logreg.predict(X_test)\n",
    "print('accuracy %s' % accuracy_score(y_pred, y_test))\n",
    "print(classification_report(y_test, y_pred,target_names=flairs))"
   ]
  },
  {
   "cell_type": "markdown",
   "metadata": {},
   "source": [
    "<h3>Logistic Regression Model (Title + Comments + Body + URL) </h3>"
   ]
  },
  {
   "cell_type": "code",
   "execution_count": 29,
   "metadata": {},
   "outputs": [],
   "source": [
    "india_data['title_comments_body_url'] = india_data['title_comments_body'] + ' ' + india_data['url']"
   ]
  },
  {
   "cell_type": "code",
   "execution_count": 30,
   "metadata": {},
   "outputs": [
    {
     "name": "stderr",
     "output_type": "stream",
     "text": [
      "C:\\Users\\alkaa\\anaconda3\\lib\\site-packages\\sklearn\\linear_model\\_logistic.py:940: ConvergenceWarning: lbfgs failed to converge (status=1):\n",
      "STOP: TOTAL NO. of ITERATIONS REACHED LIMIT.\n",
      "\n",
      "Increase the number of iterations (max_iter) or scale the data as shown in:\n",
      "    https://scikit-learn.org/stable/modules/preprocessing.html\n",
      "Please also refer to the documentation for alternative solver options:\n",
      "    https://scikit-learn.org/stable/modules/linear_model.html#logistic-regression\n",
      "  extra_warning_msg=_LOGISTIC_SOLVER_CONVERGENCE_MSG)\n"
     ]
    },
    {
     "name": "stdout",
     "output_type": "stream",
     "text": [
      "accuracy 0.785\n",
      "                  precision    recall  f1-score   support\n",
      "\n",
      "   Non-Political       0.73      0.70      0.72        27\n",
      "       Scheduled       0.71      0.58      0.64        26\n",
      "     Photography       0.83      0.88      0.86        17\n",
      "        Politics       0.92      0.88      0.90        25\n",
      "Business/Finance       1.00      0.90      0.95        10\n",
      "  Policy/Economy       1.00      0.95      0.97        20\n",
      "          Sports       0.56      0.70      0.62        20\n",
      "            Food       0.52      0.80      0.63        15\n",
      "        AskIndia       0.83      0.79      0.81        19\n",
      "     Coronavirus       1.00      0.81      0.89        21\n",
      "\n",
      "        accuracy                           0.79       200\n",
      "       macro avg       0.81      0.80      0.80       200\n",
      "    weighted avg       0.81      0.79      0.79       200\n",
      "\n"
     ]
    }
   ],
   "source": [
    "X = india_data.title_comments_body_url\n",
    "y = india_data.flair\n",
    "X_train, X_test, y_train, y_test = train_test_split(X, y, test_size=0.1) \n",
    "\n",
    "logreg = Pipeline([('vect', CountVectorizer()),\n",
    "                   ('tfidf', TfidfTransformer()),\n",
    "                   ('clf', LogisticRegression(n_jobs=1, C=1e5))])\n",
    "logreg.fit(X_train, y_train)\n",
    "\n",
    "y_pred = logreg.predict(X_test)\n",
    "print('accuracy %s' % accuracy_score(y_pred, y_test))\n",
    "print(classification_report(y_test, y_pred,target_names=flairs))"
   ]
  },
  {
   "cell_type": "code",
   "execution_count": 31,
   "metadata": {},
   "outputs": [
    {
     "name": "stderr",
     "output_type": "stream",
     "text": [
      "C:\\Users\\alkaa\\anaconda3\\lib\\site-packages\\sklearn\\linear_model\\_logistic.py:940: ConvergenceWarning: lbfgs failed to converge (status=1):\n",
      "STOP: TOTAL NO. of ITERATIONS REACHED LIMIT.\n",
      "\n",
      "Increase the number of iterations (max_iter) or scale the data as shown in:\n",
      "    https://scikit-learn.org/stable/modules/preprocessing.html\n",
      "Please also refer to the documentation for alternative solver options:\n",
      "    https://scikit-learn.org/stable/modules/linear_model.html#logistic-regression\n",
      "  extra_warning_msg=_LOGISTIC_SOLVER_CONVERGENCE_MSG)\n"
     ]
    },
    {
     "name": "stdout",
     "output_type": "stream",
     "text": [
      "accuracy 0.81\n",
      "                  precision    recall  f1-score   support\n",
      "\n",
      "   Non-Political       0.84      0.76      0.80        21\n",
      "       Scheduled       0.64      0.70      0.67        20\n",
      "     Photography       0.85      0.94      0.89        18\n",
      "        Politics       0.92      0.75      0.83        16\n",
      "Business/Finance       1.00      0.86      0.93        22\n",
      "  Policy/Economy       0.85      0.85      0.85        26\n",
      "          Sports       0.78      0.74      0.76        19\n",
      "            Food       0.72      0.82      0.77        22\n",
      "        AskIndia       0.78      0.82      0.80        17\n",
      "     Coronavirus       0.80      0.84      0.82        19\n",
      "\n",
      "        accuracy                           0.81       200\n",
      "       macro avg       0.82      0.81      0.81       200\n",
      "    weighted avg       0.82      0.81      0.81       200\n",
      "\n"
     ]
    }
   ],
   "source": [
    "india_data_impute_body = india_data.apply(lambda x: x.fillna(x.value_counts().index[0]))\n",
    "india_data_impute_body['title_comments_body_url'] = india_data_impute_body['title'] + '  ' + india_data_impute_body['comments'] + '  ' + india_data_impute_body['body'] + '  ' + india_data_impute_body['url']\n",
    "X = india_data_impute_body.title_comments_body_url\n",
    "y = india_data_impute_body.flair\n",
    "\n",
    "X_train, X_test, y_train, y_test = train_test_split(X, y, test_size=0.1) \n",
    "\n",
    "logreg = Pipeline([('vect', CountVectorizer()),\n",
    "                   ('tfidf', TfidfTransformer()),\n",
    "                   ('clf', LogisticRegression(n_jobs=1, C=1e5))])\n",
    "logreg.fit(X_train, y_train)\n",
    "\n",
    "y_pred = logreg.predict(X_test)\n",
    "print('accuracy %s' % accuracy_score(y_pred, y_test))\n",
    "print(classification_report(y_test, y_pred,target_names=flairs))"
   ]
  },
  {
   "cell_type": "markdown",
   "metadata": {},
   "source": [
    "<h3>Logistic Regression Model (Title + Body) </h3>"
   ]
  },
  {
   "cell_type": "code",
   "execution_count": 32,
   "metadata": {},
   "outputs": [],
   "source": [
    "india_data['title_body'] = india_data['title'] + '  ' + india_data['body']"
   ]
  },
  {
   "cell_type": "code",
   "execution_count": 33,
   "metadata": {},
   "outputs": [
    {
     "name": "stdout",
     "output_type": "stream",
     "text": [
      "accuracy 0.815\n",
      "                  precision    recall  f1-score   support\n",
      "\n",
      "   Non-Political       1.00      1.00      1.00        18\n",
      "       Scheduled       0.64      0.84      0.73        19\n",
      "     Photography       0.95      0.86      0.90        21\n",
      "        Politics       0.95      0.87      0.91        23\n",
      "Business/Finance       0.77      0.95      0.85        21\n",
      "  Policy/Economy       0.94      0.89      0.92        19\n",
      "          Sports       0.75      0.50      0.60        24\n",
      "            Food       0.61      0.88      0.72        16\n",
      "        AskIndia       0.75      0.63      0.69        19\n",
      "     Coronavirus       0.89      0.80      0.84        20\n",
      "\n",
      "        accuracy                           0.81       200\n",
      "       macro avg       0.83      0.82      0.82       200\n",
      "    weighted avg       0.83      0.81      0.81       200\n",
      "\n"
     ]
    },
    {
     "name": "stderr",
     "output_type": "stream",
     "text": [
      "C:\\Users\\alkaa\\anaconda3\\lib\\site-packages\\sklearn\\linear_model\\_logistic.py:940: ConvergenceWarning: lbfgs failed to converge (status=1):\n",
      "STOP: TOTAL NO. of ITERATIONS REACHED LIMIT.\n",
      "\n",
      "Increase the number of iterations (max_iter) or scale the data as shown in:\n",
      "    https://scikit-learn.org/stable/modules/preprocessing.html\n",
      "Please also refer to the documentation for alternative solver options:\n",
      "    https://scikit-learn.org/stable/modules/linear_model.html#logistic-regression\n",
      "  extra_warning_msg=_LOGISTIC_SOLVER_CONVERGENCE_MSG)\n"
     ]
    }
   ],
   "source": [
    "X = india_data.title_body\n",
    "y = india_data.flair\n",
    "X_train, X_test, y_train, y_test = train_test_split(X, y, test_size=0.1) \n",
    "\n",
    "logreg = Pipeline([('vect', CountVectorizer()),\n",
    "                   ('tfidf', TfidfTransformer()),\n",
    "                   ('clf', LogisticRegression(n_jobs=1, C=1e5))])\n",
    "logreg.fit(X_train, y_train)\n",
    "\n",
    "y_pred = logreg.predict(X_test)\n",
    "print('accuracy %s' % accuracy_score(y_pred, y_test))\n",
    "print(classification_report(y_test, y_pred,target_names=flairs))"
   ]
  },
  {
   "cell_type": "markdown",
   "metadata": {},
   "source": [
    "<h3>Logistic Regression Model (Title + URL) </h3>"
   ]
  },
  {
   "cell_type": "code",
   "execution_count": 34,
   "metadata": {},
   "outputs": [],
   "source": [
    "india_data['title_url'] = india_data['title'] + '  ' + india_data['url']"
   ]
  },
  {
   "cell_type": "code",
   "execution_count": 35,
   "metadata": {},
   "outputs": [
    {
     "name": "stdout",
     "output_type": "stream",
     "text": [
      "accuracy 0.75\n",
      "                  precision    recall  f1-score   support\n",
      "\n",
      "   Non-Political       0.82      0.78      0.80        23\n",
      "       Scheduled       0.75      0.41      0.53        22\n",
      "     Photography       0.96      1.00      0.98        24\n",
      "        Politics       0.94      0.81      0.87        21\n",
      "Business/Finance       0.89      1.00      0.94        17\n",
      "  Policy/Economy       0.81      0.71      0.76        24\n",
      "          Sports       0.52      0.68      0.59        19\n",
      "            Food       0.63      0.71      0.67        17\n",
      "        AskIndia       0.54      0.72      0.62        18\n",
      "     Coronavirus       0.67      0.67      0.67        15\n",
      "\n",
      "        accuracy                           0.75       200\n",
      "       macro avg       0.75      0.75      0.74       200\n",
      "    weighted avg       0.77      0.75      0.75       200\n",
      "\n"
     ]
    },
    {
     "name": "stderr",
     "output_type": "stream",
     "text": [
      "C:\\Users\\alkaa\\anaconda3\\lib\\site-packages\\sklearn\\linear_model\\_logistic.py:940: ConvergenceWarning: lbfgs failed to converge (status=1):\n",
      "STOP: TOTAL NO. of ITERATIONS REACHED LIMIT.\n",
      "\n",
      "Increase the number of iterations (max_iter) or scale the data as shown in:\n",
      "    https://scikit-learn.org/stable/modules/preprocessing.html\n",
      "Please also refer to the documentation for alternative solver options:\n",
      "    https://scikit-learn.org/stable/modules/linear_model.html#logistic-regression\n",
      "  extra_warning_msg=_LOGISTIC_SOLVER_CONVERGENCE_MSG)\n"
     ]
    }
   ],
   "source": [
    "X = india_data.title_url\n",
    "y = india_data.flair\n",
    "X_train, X_test, y_train, y_test = train_test_split(X, y, test_size=0.1) \n",
    "\n",
    "logreg = Pipeline([('vect', CountVectorizer()),\n",
    "                   ('tfidf', TfidfTransformer()),\n",
    "                   ('clf', LogisticRegression(n_jobs=1, C=1e5))])\n",
    "logreg.fit(X_train, y_train)\n",
    "\n",
    "y_pred = logreg.predict(X_test)\n",
    "print('accuracy %s' % accuracy_score(y_pred, y_test))\n",
    "print(classification_report(y_test, y_pred,target_names=flairs))"
   ]
  },
  {
   "cell_type": "markdown",
   "metadata": {},
   "source": [
    "<h3>Logistic Regression Model (Title + Comments + URL) </h3>"
   ]
  },
  {
   "cell_type": "code",
   "execution_count": 36,
   "metadata": {},
   "outputs": [],
   "source": [
    "india_data['title_comments_url'] = india_data['title'] + '  ' + india_data['comments'] + '  ' + india_data['url']"
   ]
  },
  {
   "cell_type": "code",
   "execution_count": 37,
   "metadata": {},
   "outputs": [
    {
     "name": "stdout",
     "output_type": "stream",
     "text": [
      "accuracy 0.73\n",
      "                  precision    recall  f1-score   support\n",
      "\n",
      "   Non-Political       0.67      0.74      0.70        19\n",
      "       Scheduled       0.69      0.50      0.58        18\n",
      "     Photography       0.81      1.00      0.89        17\n",
      "        Politics       0.67      0.86      0.75        14\n",
      "Business/Finance       1.00      0.83      0.90        23\n",
      "  Policy/Economy       0.76      0.81      0.79        16\n",
      "          Sports       0.62      0.75      0.68        20\n",
      "            Food       0.68      0.50      0.58        26\n",
      "        AskIndia       0.65      0.61      0.63        18\n",
      "     Coronavirus       0.74      0.79      0.77        29\n",
      "\n",
      "        accuracy                           0.73       200\n",
      "       macro avg       0.73      0.74      0.73       200\n",
      "    weighted avg       0.73      0.73      0.73       200\n",
      "\n"
     ]
    },
    {
     "name": "stderr",
     "output_type": "stream",
     "text": [
      "C:\\Users\\alkaa\\anaconda3\\lib\\site-packages\\sklearn\\linear_model\\_logistic.py:940: ConvergenceWarning: lbfgs failed to converge (status=1):\n",
      "STOP: TOTAL NO. of ITERATIONS REACHED LIMIT.\n",
      "\n",
      "Increase the number of iterations (max_iter) or scale the data as shown in:\n",
      "    https://scikit-learn.org/stable/modules/preprocessing.html\n",
      "Please also refer to the documentation for alternative solver options:\n",
      "    https://scikit-learn.org/stable/modules/linear_model.html#logistic-regression\n",
      "  extra_warning_msg=_LOGISTIC_SOLVER_CONVERGENCE_MSG)\n"
     ]
    }
   ],
   "source": [
    "X = india_data.title_comments_url\n",
    "y = india_data.flair\n",
    "X_train, X_test, y_train, y_test = train_test_split(X, y, test_size=0.1) \n",
    "\n",
    "logreg = Pipeline([('vect', CountVectorizer()),\n",
    "                   ('tfidf', TfidfTransformer()),\n",
    "                   ('clf', LogisticRegression(n_jobs=1, C=1e5))])\n",
    "logreg.fit(X_train, y_train)\n",
    "\n",
    "y_pred = logreg.predict(X_test)\n",
    "print('accuracy %s' % accuracy_score(y_pred, y_test))\n",
    "print(classification_report(y_test, y_pred,target_names=flairs))"
   ]
  },
  {
   "cell_type": "markdown",
   "metadata": {},
   "source": [
    "<h3>Logistic Regression Model (Title + Body + URL) </h3>"
   ]
  },
  {
   "cell_type": "code",
   "execution_count": 38,
   "metadata": {},
   "outputs": [],
   "source": [
    "india_data['title_body_url'] = india_data['title'] + '  ' + india_data['body'] + '  ' + india_data['url']"
   ]
  },
  {
   "cell_type": "code",
   "execution_count": 39,
   "metadata": {},
   "outputs": [
    {
     "name": "stdout",
     "output_type": "stream",
     "text": [
      "accuracy 0.805\n",
      "                  precision    recall  f1-score   support\n",
      "\n",
      "   Non-Political       0.94      0.81      0.87        21\n",
      "       Scheduled       0.68      0.75      0.71        20\n",
      "     Photography       0.91      0.87      0.89        23\n",
      "        Politics       0.85      0.89      0.87        19\n",
      "Business/Finance       0.88      0.88      0.88        25\n",
      "  Policy/Economy       0.88      0.88      0.88        17\n",
      "          Sports       0.73      0.73      0.73        22\n",
      "            Food       0.67      0.82      0.74        17\n",
      "        AskIndia       0.63      0.60      0.62        20\n",
      "     Coronavirus       0.93      0.81      0.87        16\n",
      "\n",
      "        accuracy                           0.81       200\n",
      "       macro avg       0.81      0.80      0.81       200\n",
      "    weighted avg       0.81      0.81      0.81       200\n",
      "\n"
     ]
    },
    {
     "name": "stderr",
     "output_type": "stream",
     "text": [
      "C:\\Users\\alkaa\\anaconda3\\lib\\site-packages\\sklearn\\linear_model\\_logistic.py:940: ConvergenceWarning: lbfgs failed to converge (status=1):\n",
      "STOP: TOTAL NO. of ITERATIONS REACHED LIMIT.\n",
      "\n",
      "Increase the number of iterations (max_iter) or scale the data as shown in:\n",
      "    https://scikit-learn.org/stable/modules/preprocessing.html\n",
      "Please also refer to the documentation for alternative solver options:\n",
      "    https://scikit-learn.org/stable/modules/linear_model.html#logistic-regression\n",
      "  extra_warning_msg=_LOGISTIC_SOLVER_CONVERGENCE_MSG)\n"
     ]
    }
   ],
   "source": [
    "X = india_data.title_body_url\n",
    "y = india_data.flair\n",
    "X_train, X_test, y_train, y_test = train_test_split(X, y, test_size=0.1) \n",
    "\n",
    "logreg = Pipeline([('vect', CountVectorizer()),\n",
    "                   ('tfidf', TfidfTransformer()),\n",
    "                   ('clf', LogisticRegression(n_jobs=1, C=1e5))])\n",
    "logreg.fit(X_train, y_train)\n",
    "\n",
    "y_pred = logreg.predict(X_test)\n",
    "print('accuracy %s' % accuracy_score(y_pred, y_test))\n",
    "print(classification_report(y_test, y_pred,target_names=flairs))"
   ]
  },
  {
   "cell_type": "markdown",
   "metadata": {},
   "source": [
    "<h3>Logistic Regression Model (Comments + Body + URL) </h3>"
   ]
  },
  {
   "cell_type": "code",
   "execution_count": 40,
   "metadata": {},
   "outputs": [],
   "source": [
    "india_data['comments_body_url'] = india_data['comments'] + '  ' + india_data['body'] + '  ' + india_data['url']"
   ]
  },
  {
   "cell_type": "code",
   "execution_count": 41,
   "metadata": {},
   "outputs": [
    {
     "name": "stdout",
     "output_type": "stream",
     "text": [
      "accuracy 0.79\n",
      "                  precision    recall  f1-score   support\n",
      "\n",
      "   Non-Political       0.90      0.86      0.88        21\n",
      "       Scheduled       0.81      0.71      0.76        24\n",
      "     Photography       0.88      0.88      0.88        24\n",
      "        Politics       0.93      0.88      0.90        16\n",
      "Business/Finance       1.00      0.96      0.98        24\n",
      "  Policy/Economy       0.80      0.71      0.75        17\n",
      "          Sports       0.48      0.65      0.55        17\n",
      "            Food       0.60      0.80      0.69        15\n",
      "        AskIndia       0.64      0.67      0.65        21\n",
      "     Coronavirus       0.94      0.76      0.84        21\n",
      "\n",
      "        accuracy                           0.79       200\n",
      "       macro avg       0.80      0.79      0.79       200\n",
      "    weighted avg       0.81      0.79      0.80       200\n",
      "\n"
     ]
    },
    {
     "name": "stderr",
     "output_type": "stream",
     "text": [
      "C:\\Users\\alkaa\\anaconda3\\lib\\site-packages\\sklearn\\linear_model\\_logistic.py:940: ConvergenceWarning: lbfgs failed to converge (status=1):\n",
      "STOP: TOTAL NO. of ITERATIONS REACHED LIMIT.\n",
      "\n",
      "Increase the number of iterations (max_iter) or scale the data as shown in:\n",
      "    https://scikit-learn.org/stable/modules/preprocessing.html\n",
      "Please also refer to the documentation for alternative solver options:\n",
      "    https://scikit-learn.org/stable/modules/linear_model.html#logistic-regression\n",
      "  extra_warning_msg=_LOGISTIC_SOLVER_CONVERGENCE_MSG)\n"
     ]
    }
   ],
   "source": [
    "X = india_data.title_body_url\n",
    "y = india_data.flair\n",
    "X_train, X_test, y_train, y_test = train_test_split(X, y, test_size=0.1) \n",
    "\n",
    "logreg = Pipeline([('vect', CountVectorizer()),\n",
    "                   ('tfidf', TfidfTransformer()),\n",
    "                   ('clf', LogisticRegression(n_jobs=1, C=1e5))])\n",
    "logreg.fit(X_train, y_train)\n",
    "\n",
    "y_pred = logreg.predict(X_test)\n",
    "print('accuracy %s' % accuracy_score(y_pred, y_test))\n",
    "print(classification_report(y_test, y_pred,target_names=flairs))"
   ]
  },
  {
   "cell_type": "markdown",
   "metadata": {},
   "source": [
    "<p><b>\n",
    "The best results are seen when title, comments, body and url (with imputed values) are all used as a combined feature to predict the flair with an accuracy of 77-81%. \n",
    "</b></p>"
   ]
  }
 ],
 "metadata": {
  "kernelspec": {
   "display_name": "Python 3",
   "language": "python",
   "name": "python3"
  },
  "language_info": {
   "codemirror_mode": {
    "name": "ipython",
    "version": 3
   },
   "file_extension": ".py",
   "mimetype": "text/x-python",
   "name": "python",
   "nbconvert_exporter": "python",
   "pygments_lexer": "ipython3",
   "version": "3.7.6"
  }
 },
 "nbformat": 4,
 "nbformat_minor": 4
}
